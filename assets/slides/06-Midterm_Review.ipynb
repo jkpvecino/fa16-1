{
 "cells": [
  {
   "cell_type": "markdown",
   "metadata": {},
   "source": [
    "# CS88 Lecture 6 - Review"
   ]
  },
  {
   "cell_type": "markdown",
   "metadata": {},
   "source": [
    "We started the course looking at operators, data types and expressions.  Here is some sample arithmetic operators, or rather the functions that implement them"
   ]
  },
  {
   "cell_type": "code",
   "execution_count": null,
   "metadata": {
    "collapsed": true
   },
   "outputs": [],
   "source": [
    "from operator import add, sub, mul, floordiv, truediv"
   ]
  },
  {
   "cell_type": "markdown",
   "metadata": {},
   "source": [
    "We learned a lot about *functions*.  To review, let's defines some useful functions on lists"
   ]
  },
  {
   "cell_type": "code",
   "execution_count": null,
   "metadata": {
    "collapsed": true
   },
   "outputs": [],
   "source": [
    "def first(s):\n",
    "    return s[0]  # sequences start with index 0\n",
    "\n",
    "def last(s):\n",
    "    return s[-1] # think of indexing as % len(s), this is the same as s[len(s)-1]\n",
    "\n",
    "def rest(s):\n",
    "    return s[1:] # a slice of all but the first element\n",
    "\n",
    "def middle(s):\n",
    "    return s[1:-1] # new sequence without the first and last elements"
   ]
  },
  {
   "cell_type": "markdown",
   "metadata": {},
   "source": [
    "## A simple recursion refresher\n",
    "\n",
    "A palindrome is a word that reads the same forwards and backwards, e.g., refer, deed, toot\n",
    "\n",
    "* Base case:?\n",
    "* Recursive assumption:?\n"
   ]
  },
  {
   "cell_type": "code",
   "execution_count": null,
   "metadata": {
    "collapsed": true
   },
   "outputs": [],
   "source": [
    "def palindrome(s):\n",
    "  \n",
    "\n",
    "\n"
   ]
  },
  {
   "cell_type": "code",
   "execution_count": null,
   "metadata": {
    "collapsed": false
   },
   "outputs": [],
   "source": [
    "palindrome(\"rotor\")"
   ]
  },
  {
   "cell_type": "code",
   "execution_count": null,
   "metadata": {
    "collapsed": true
   },
   "outputs": [],
   "source": [
    "def palindrome(s):\n",
    "    if not s or len(s)==1:\n",
    "        return True\n",
    "    else:\n",
    "        return (first(s) == last(s)) and palindrome(middle(s))"
   ]
  },
  {
   "cell_type": "markdown",
   "metadata": {},
   "source": [
    "## Expression evaluation - computational structure\n",
    "\n",
    "But now we know about *lists, strings, tuples*, and *functions* as objects.  Let's put them all together into dispatch table comprised of a list of tuples, each containing an operator symbol (a string) and the function that implements it."
   ]
  },
  {
   "cell_type": "code",
   "execution_count": null,
   "metadata": {
    "collapsed": true
   },
   "outputs": [],
   "source": [
    "op_table = [('+', add),\n",
    "            ('*', mul),\n",
    "            ('-', sub),\n",
    "            ('//', floordiv),\n",
    "            ('/', truediv)]"
   ]
  },
  {
   "cell_type": "markdown",
   "metadata": {},
   "source": [
    "We have learned things that we can do with lists and tuples, including indexing to select elements and iterating over them. Let's review these on our `op_table`"
   ]
  },
  {
   "cell_type": "code",
   "execution_count": null,
   "metadata": {
    "collapsed": false
   },
   "outputs": [],
   "source": [
    "# Index a sequence to select an element\n",
    "op_table"
   ]
  },
  {
   "cell_type": "code",
   "execution_count": null,
   "metadata": {
    "collapsed": false
   },
   "outputs": [],
   "source": [
    "# Index the first element of the selected tuple\n",
    "op_table"
   ]
  },
  {
   "cell_type": "code",
   "execution_count": null,
   "metadata": {
    "collapsed": false
   },
   "outputs": [],
   "source": [
    "# Apply the function object obtained by indexing to args\n",
    "op_table"
   ]
  },
  {
   "cell_type": "code",
   "execution_count": null,
   "metadata": {
    "collapsed": false
   },
   "outputs": [],
   "source": [
    "first(op_table)"
   ]
  },
  {
   "cell_type": "code",
   "execution_count": null,
   "metadata": {
    "collapsed": false
   },
   "outputs": [],
   "source": [
    "last(op_table)"
   ]
  },
  {
   "cell_type": "code",
   "execution_count": null,
   "metadata": {
    "collapsed": false
   },
   "outputs": [],
   "source": [
    "rest(op_table)"
   ]
  },
  {
   "cell_type": "code",
   "execution_count": null,
   "metadata": {
    "collapsed": false
   },
   "outputs": [],
   "source": [
    "middle(op_table)"
   ]
  },
  {
   "cell_type": "markdown",
   "metadata": {},
   "source": [
    "We have also learned about *iteration, conditionals, tuple assignment*, and *higher order functions*.  We often use all of these.  Here we will define a function that takes an operator symbol as input and returns a function that implements that operator by looking up the symbol in our operator dispatch table."
   ]
  },
  {
   "cell_type": "code",
   "execution_count": null,
   "metadata": {
    "collapsed": true
   },
   "outputs": [],
   "source": [
    "def op(op_symbol):\n",
    "    for symbol, fun in op_table:\n",
    "        \n",
    "        "
   ]
  },
  {
   "cell_type": "code",
   "execution_count": null,
   "metadata": {
    "collapsed": false
   },
   "outputs": [],
   "source": [
    "op('*')"
   ]
  },
  {
   "cell_type": "code",
   "execution_count": null,
   "metadata": {
    "collapsed": false
   },
   "outputs": [],
   "source": [
    "op('*')(3,4)"
   ]
  },
  {
   "cell_type": "code",
   "execution_count": null,
   "metadata": {
    "collapsed": false
   },
   "outputs": [],
   "source": [
    "# op(\"strongbad\")"
   ]
  },
  {
   "cell_type": "code",
   "execution_count": null,
   "metadata": {
    "collapsed": true
   },
   "outputs": [],
   "source": [
    "def op(op_symbol):\n",
    "    for symbol, fun in op_table:\n",
    "        if symbol == op_symbol:\n",
    "            return fun\n",
    "    assert False, \"Bad operation symbol\""
   ]
  },
  {
   "cell_type": "markdown",
   "metadata": {},
   "source": [
    "We also learned a bit about *data types*.  Every object has a type.  It is an instance of the class defined by its type."
   ]
  },
  {
   "cell_type": "code",
   "execution_count": null,
   "metadata": {
    "collapsed": false
   },
   "outputs": [],
   "source": [
    "type(2)"
   ]
  },
  {
   "cell_type": "code",
   "execution_count": null,
   "metadata": {
    "collapsed": false
   },
   "outputs": [],
   "source": [
    "isinstance(2, int)"
   ]
  },
  {
   "cell_type": "code",
   "execution_count": null,
   "metadata": {
    "collapsed": false
   },
   "outputs": [],
   "source": [
    "isinstance(3.14, int)"
   ]
  },
  {
   "cell_type": "code",
   "execution_count": null,
   "metadata": {
    "collapsed": false
   },
   "outputs": [],
   "source": [
    "isinstance(3.14, float)"
   ]
  },
  {
   "cell_type": "code",
   "execution_count": null,
   "metadata": {
    "collapsed": false
   },
   "outputs": [],
   "source": [
    "type(op(\"+\"))"
   ]
  },
  {
   "cell_type": "markdown",
   "metadata": {},
   "source": [
    "## Expressions as trees built from tuples\n",
    "\n",
    "Let's build a more interesting data type.  One that represents expressions.  The most primitive expressions are just numbers.  Then we have operators applied to argument expressions - those might be just numbers or they might be whole expression trees.  Note the recursive nature of the definition!"
   ]
  },
  {
   "cell_type": "code",
   "execution_count": null,
   "metadata": {
    "collapsed": false
   },
   "outputs": [],
   "source": [
    "# a number\n",
    "example1 = 3.1415\n",
    "example1"
   ]
  },
  {
   "cell_type": "code",
   "execution_count": null,
   "metadata": {
    "collapsed": false
   },
   "outputs": [],
   "source": [
    "# a single binary expression\n",
    "example2 = (\"+\", 2, 3)\n",
    "example2"
   ]
  },
  {
   "cell_type": "code",
   "execution_count": null,
   "metadata": {
    "collapsed": false
   },
   "outputs": [],
   "source": [
    "# an expression with two operators\n",
    "example3 = (\"+\", 3, (\"*\", 4, 5))\n",
    "example3"
   ]
  },
  {
   "cell_type": "code",
   "execution_count": null,
   "metadata": {
    "collapsed": false
   },
   "outputs": [],
   "source": [
    "# a larger tree\n",
    "example4 = (\"-\",(\"+\", 2,3),(\"*\", 4,5))\n",
    "example4"
   ]
  },
  {
   "cell_type": "markdown",
   "metadata": {},
   "source": [
    "## Tree recursion to evaluate expression trees\n",
    "\n",
    "Recently we learned about *recursion*.  It is an incredible conceptual leap that allows you to solve hard problems easily by breaking the problem down into easy pieces:\n",
    "\n",
    "* **base case**: solve a really simple instance of the problem\n",
    "* **recursive assumption**: assume that your function works for simpler instances (that are closer to the base case).\n",
    "* **assemble**: a solution for the general case using the assumed solutions to the simpler instance(s).\n",
    "\n",
    "Here we will apply this idea to the very first thing we learned, *expression evaluation*.  Remember the rules?  Evaluate each of the argument expressions then evaluate the operator (or function) on these operands.  \n",
    "\n",
    "We will represent numbers as themselves and expressions as 3-tuples consisting of an operation symbol and two operand expressions."
   ]
  },
  {
   "cell_type": "code",
   "execution_count": null,
   "metadata": {
    "collapsed": true
   },
   "outputs": [],
   "source": [
    "def eval_expr(exp):\n",
    "    if isinstance(exp, int) or isinstance(exp, float):\n",
    "        return exp\n",
    "    else:\n",
    "        ret = op(exp[0])(eval_expr(exp[1]), eval_expr(exp[2]))\n",
    "        return ret"
   ]
  },
  {
   "cell_type": "code",
   "execution_count": null,
   "metadata": {
    "collapsed": false
   },
   "outputs": [],
   "source": [
    "eval_expr(example1)"
   ]
  },
  {
   "cell_type": "code",
   "execution_count": null,
   "metadata": {
    "collapsed": false
   },
   "outputs": [],
   "source": [
    "eval_expr(example4)"
   ]
  },
  {
   "cell_type": "markdown",
   "metadata": {},
   "source": [
    "Let's add some print statements so that we can see more clearly what is happening."
   ]
  },
  {
   "cell_type": "code",
   "execution_count": null,
   "metadata": {
    "collapsed": false
   },
   "outputs": [],
   "source": [
    "def eval_expr(exp):\n",
    "    print(exp)   # Print the expression to evaluate\n",
    "    if isinstance(exp,int) or isinstance(exp,float):\n",
    "        return exp\n",
    "    else:\n",
    "        ret = op(exp[0])(eval_expr(exp[1]), eval_expr(exp[2]))\n",
    "        print(exp, \" => \", ret) # print the result of evaluating it\n",
    "        return ret"
   ]
  },
  {
   "cell_type": "code",
   "execution_count": null,
   "metadata": {
    "collapsed": false
   },
   "outputs": [],
   "source": [
    "eval_expr(example1)"
   ]
  },
  {
   "cell_type": "code",
   "execution_count": null,
   "metadata": {
    "collapsed": false
   },
   "outputs": [],
   "source": [
    "eval_expr(example2)"
   ]
  },
  {
   "cell_type": "code",
   "execution_count": null,
   "metadata": {
    "collapsed": false
   },
   "outputs": [],
   "source": [
    "eval_expr(example3)"
   ]
  },
  {
   "cell_type": "code",
   "execution_count": null,
   "metadata": {
    "collapsed": false
   },
   "outputs": [],
   "source": [
    "eval_expr(example4)"
   ]
  },
  {
   "cell_type": "code",
   "execution_count": null,
   "metadata": {
    "collapsed": false
   },
   "outputs": [],
   "source": [
    "eval_expr(('+', 2, ('*', 6, ('//', 17, 2))))"
   ]
  },
  {
   "cell_type": "markdown",
   "metadata": {},
   "source": [
    "## Iteration\n",
    "\n",
    "We have seen many cases for iteration and generally we used `for` loops to traverse data structures and `while` loops to iterate until some condition is satisfied.  Anything that can be done with a `for` can be done with a `while` but it may not be a clear and simple.  But there are times when `while` is the best way to get things done.\n",
    "\n",
    "Often we need to iterate down multiple sequences at once.  Python provides a built-in function `zip` for this purpose.  Keeping with our empowerment philosophy - \"anything you use you could build yourself\" - lets build a version of this `zipper`.  It takes two sequences and zips their elements together forming a single sequence of tuples.  What happens if they are different lengths?  We stop at the length of the shorter one."
   ]
  },
  {
   "cell_type": "code",
   "execution_count": null,
   "metadata": {
    "collapsed": true
   },
   "outputs": [],
   "source": [
    "# While loops, sequence, tuple\n",
    "def zipper(s1, s2):\n",
    "    \"\"\"Zip together two sequences up the the length of the shorter\"\"\"\n",
    "    \n",
    "    \n",
    "    "
   ]
  },
  {
   "cell_type": "code",
   "execution_count": null,
   "metadata": {
    "collapsed": false
   },
   "outputs": [],
   "source": [
    "zipper([\"a\", \"b\", \"c\"],[1, 2, 3])"
   ]
  },
  {
   "cell_type": "code",
   "execution_count": null,
   "metadata": {
    "collapsed": false
   },
   "outputs": [],
   "source": [
    "zipper([\"a\", \"b\", \"c\"],[1, 2, 3, \"it's easy\"])"
   ]
  },
  {
   "cell_type": "code",
   "execution_count": null,
   "metadata": {
    "collapsed": true
   },
   "outputs": [],
   "source": [
    "# While loops, sequence, tuple\n",
    "def zipper(s1, s2):\n",
    "    \"\"\"Zip together two sequences up the the length of the shorter\"\"\"\n",
    "    zipped = []         # The resulting zipped sequence, initially empty\n",
    "    while s1 and s2:    # Predicate allows the loop as long as both are Truthy\n",
    "        zipped = zipped + [(first(s1), first(s2))] # extract and collect the first elements\n",
    "        s1, s2 = rest(s1), rest(s2) # Move down the input sequences\n",
    "    return zipped "
   ]
  },
  {
   "cell_type": "markdown",
   "metadata": {},
   "source": [
    "## Map-Reduce Software Design patterns\n",
    "\n",
    "Let's use our `zipper` to map binary operators over pairs of sequences in a natural way using *higher-order functions* and *list comprehension*."
   ]
  },
  {
   "cell_type": "code",
   "execution_count": null,
   "metadata": {
    "collapsed": true
   },
   "outputs": [],
   "source": [
    "def map2(fun, a_seq, b_seq):\n",
    "    return [fun(a,b) for (a,b) in zipper(a_seq,b_seq)]"
   ]
  },
  {
   "cell_type": "code",
   "execution_count": null,
   "metadata": {
    "collapsed": false
   },
   "outputs": [],
   "source": [
    "map2(add, [1,2,3, \"It's \"], [4,5,6,\"easy\"])"
   ]
  },
  {
   "cell_type": "markdown",
   "metadata": {},
   "source": [
    "Some operations that seem recursive, e.g., `x[i+i] = x[i] + c`, can be made parallel with teh right operator. Here's a variant of `numpy.arange` that you've been using in data8."
   ]
  },
  {
   "cell_type": "code",
   "execution_count": null,
   "metadata": {
    "collapsed": true
   },
   "outputs": [],
   "source": [
    "def srange(minval, step, steps):\n",
    "    return [minval + i*step for i in range(steps)]"
   ]
  },
  {
   "cell_type": "code",
   "execution_count": null,
   "metadata": {
    "collapsed": false
   },
   "outputs": [],
   "source": [
    "srange(2, 1.5, 10)"
   ]
  },
  {
   "cell_type": "markdown",
   "metadata": {},
   "source": [
    "There are reductions other than binary arithmetic operators, like `add` and `mul`.  One of the most important is to find individual elements in a sequence or data structures.\n",
    "\n",
    "Python has and important operator for this - `in`."
   ]
  },
  {
   "cell_type": "code",
   "execution_count": null,
   "metadata": {
    "collapsed": false
   },
   "outputs": [],
   "source": [
    "6.5 in srange(2, 1.5, 10)"
   ]
  },
  {
   "cell_type": "markdown",
   "metadata": {},
   "source": [
    "And, if an element is in a sequence, we might want to find its position, or index, in the sequence.  Python defines such a method `index` on sequence classes.  We'll see that later when we start doing object-oriented programming. For now, let's build our own. "
   ]
  },
  {
   "cell_type": "code",
   "execution_count": null,
   "metadata": {
    "collapsed": true
   },
   "outputs": [],
   "source": [
    "def index(s, value):\n",
    "    \"\"\"Return the index of value in sequence s\"\"\"\n",
    "    for i, element in zipper(range(len(s)), s):\n",
    "        if element == value:\n",
    "            return i"
   ]
  },
  {
   "cell_type": "code",
   "execution_count": null,
   "metadata": {
    "collapsed": false
   },
   "outputs": [],
   "source": [
    "index(srange(2,1.5,10), 6.5)"
   ]
  },
  {
   "cell_type": "code",
   "execution_count": null,
   "metadata": {
    "collapsed": false
   },
   "outputs": [],
   "source": [
    "srange(2, 1.5, 10)[3]"
   ]
  },
  {
   "cell_type": "markdown",
   "metadata": {},
   "source": [
    "## Histograms\n",
    "\n",
    "You have found, in data8, that histograms are a wonderful way to understand data.  So, how would we build them?  \n",
    "\n",
    "The simplest case would be categorical data, so each bin represents a category; count up the number of data elements in each category.\n",
    "\n",
    "More generally, each bin is an interval [low,high) - it is closed below and open above.  A sequence of `n` bins is described by `n+1` bin edges, so the i-th bin is the interval `bin[i] to bin[i+1]`.  The very last one is closed on the upper end (for convenience).  Data outside the bin edges is discarded.\n",
    "\n",
    "See numpy.histogram for more.\n",
    "\n",
    "The first part of this is a much more complex variant of index.  Find the index of the bin that a value\n",
    "would fall into."
   ]
  },
  {
   "cell_type": "code",
   "execution_count": null,
   "metadata": {
    "collapsed": true
   },
   "outputs": [],
   "source": [
    "def bindex(value, bins):\n",
    "    \"\"\"Return the index i of the bin such that bin[i]<=x<bin[i+1], except last interval closed.\n",
    "    \n",
    "    >>> find_bindex(0, [1,2,3])    # less than first bin edge                                                                                                   \n",
    "    >>> find_bindex(1, [1,2,3])    # equal to bin lower edge                                                                               \n",
    "    0                                                                                                                                  \n",
    "    >>> find_bindex(2.5, [1,2,3])  # interior of bin                                                                          \n",
    "    1    \n",
    "    >>> find_bindex(3.1, [1,2,3])  # Beyond rightmost edge\n",
    "    >>> find_bindex(3, [1,2,3])    # Equal to rightmost edge                                                                             \n",
    "    1                                                                                                                                                                                                                                                                                                                                                          \n",
    "    \"\"\"\n",
    "    if value < bins[0]:\n",
    "        return None\n",
    "    for i in range(len(bins)-1):\n",
    "        if (bins[i] <= value) and (value < bins[i+1]):\n",
    "            return i\n",
    "    i = len(bins)-2\n",
    "    if (bins[i] <= value) and (value <= bins[i+1]):\n",
    "        return i\n",
    "    else:\n",
    "        return None"
   ]
  },
  {
   "cell_type": "markdown",
   "metadata": {},
   "source": [
    "Now we need to go through all the data, incrementing the count for the appropriate bin.  There are two fundamentally different ways to do this.  The functional approach that we have been taking so far creates a new sequence of counts with one of them incremented.  Again, zip comes in handy.  Here we use the built-in."
   ]
  },
  {
   "cell_type": "code",
   "execution_count": null,
   "metadata": {
    "collapsed": true
   },
   "outputs": [],
   "source": [
    "def add_to_element(s, index, value):\n",
    "    result = []\n",
    "    for i,element in zip(range(len(s)),s):\n",
    "        if i != index:\n",
    "            result = result + [element]\n",
    "        else:\n",
    "            result = result + [element+value]\n",
    "    return result"
   ]
  },
  {
   "cell_type": "code",
   "execution_count": null,
   "metadata": {
    "collapsed": false
   },
   "outputs": [],
   "source": [
    "add_to_element([0,0,0,0], 2, 1)"
   ]
  },
  {
   "cell_type": "markdown",
   "metadata": {},
   "source": [
    "We could, of course, clean this up by dreating an update function with the conditional, but what we really want is a *conditional expression*, rather than a conditional statement.  Then we could use our list comprehension.  Yes, this exists in Python too."
   ]
  },
  {
   "cell_type": "code",
   "execution_count": null,
   "metadata": {
    "collapsed": true
   },
   "outputs": [],
   "source": [
    "def add_to_element(s, index, value):\n",
    "    return [element if i != index else element+value for i,element in zip(range(len(s)), s)]"
   ]
  },
  {
   "cell_type": "code",
   "execution_count": null,
   "metadata": {
    "collapsed": false
   },
   "outputs": [],
   "source": [
    "add_to_element([0,0,1,0], 1, 1)"
   ]
  },
  {
   "cell_type": "markdown",
   "metadata": {},
   "source": [
    "Now we can put these two functions together to produce \"a histogram\" or rather the counting of data in each bin."
   ]
  },
  {
   "cell_type": "code",
   "execution_count": null,
   "metadata": {
    "collapsed": true
   },
   "outputs": [],
   "source": [
    "def bin(data,bins):\n",
    "    \"\"\"Return counts of data elements per bin[i] <= element < bin[i+1]\n",
    "    \"\"\"\n",
    "    counts = [0]*(len(bins)-1)     # Initially all counts are zero\n",
    "    for element in data:\n",
    "        i = bindex(element, bins)  \n",
    "        if i is not None:\n",
    "            counts = add_to_element(counts, i, 1)\n",
    "    return counts"
   ]
  },
  {
   "cell_type": "code",
   "execution_count": null,
   "metadata": {
    "collapsed": false
   },
   "outputs": [],
   "source": [
    "bin([0, 1,2,3, 4,5, 6,7,8, 9], [1,4,6,8])"
   ]
  },
  {
   "cell_type": "markdown",
   "metadata": {},
   "source": [
    "## Updating lists in place - mutation\n",
    "\n",
    "Much as within a loop we repeatedly update a loop variable and only use the final value that is obtained, in a situation like this we really want to accumulate all the updates to the counts and then release the final result.\n",
    "\n",
    "We can't even think about changing the value of a number - it is it's value.  We do change what value is bound to a name, i.e., a variable.  A variable constitutes storage that hold the value bound to it.  Lists, and other data structures, also consitute storage, although the name is effectively produced by indexing.  We have seen indexing in expressions, i.e., on the right-hand-side of an assignment.  It can appear on the left-hand-side too - and the effect is to change (mutate) the object itself."
   ]
  },
  {
   "cell_type": "code",
   "execution_count": null,
   "metadata": {
    "collapsed": true
   },
   "outputs": [],
   "source": [
    "x = [0,0,0]"
   ]
  },
  {
   "cell_type": "code",
   "execution_count": null,
   "metadata": {
    "collapsed": false
   },
   "outputs": [],
   "source": [
    "x[1] # index to select an element of x"
   ]
  },
  {
   "cell_type": "code",
   "execution_count": null,
   "metadata": {
    "collapsed": true
   },
   "outputs": [],
   "source": [
    "x[1] = 1 # like any other assignment statement it yields no value"
   ]
  },
  {
   "cell_type": "code",
   "execution_count": null,
   "metadata": {
    "collapsed": false
   },
   "outputs": [],
   "source": [
    "x   # but now the value associated with x has changed."
   ]
  },
  {
   "cell_type": "markdown",
   "metadata": {},
   "source": [
    "Now let's use this idea to construct our histogram."
   ]
  },
  {
   "cell_type": "code",
   "execution_count": null,
   "metadata": {
    "collapsed": true
   },
   "outputs": [],
   "source": [
    "def bin(data, bins):\n",
    "    \"\"\"Return counts of data elements per bin[i] <= element < bin[i+1] \"\"\"\n",
    "    counts = [0]*(len(bins)-1)         # Initially all counts are zero\n",
    "    for element in data:\n",
    "        i = bindex(element, bins)\n",
    "        if i is not None:\n",
    "            counts[i] = counts[i] + 1  # increment the one this value falls in\n",
    "    return counts"
   ]
  },
  {
   "cell_type": "code",
   "execution_count": null,
   "metadata": {
    "collapsed": false
   },
   "outputs": [],
   "source": [
    "bin([0, 1,2,3, 4,5, 6,7,8, 9], [1,4,6,8])"
   ]
  },
  {
   "cell_type": "code",
   "execution_count": null,
   "metadata": {
    "collapsed": false
   },
   "outputs": [],
   "source": [
    "%matplotlib inline\n",
    "import matplotlib.pyplot as plots\n",
    "import numpy as np\n",
    "bins = [1,4,6,8]\n",
    "counts = bin([0, 1,2,3, 4,5, 6,7,8, 9],bins)\n",
    "labels = list(map(str,bins[0:-1]))\n",
    "print(counts, labels)\n",
    "plots.bar(range(len(bins)-1),counts, tick_label=labels)"
   ]
  },
  {
   "cell_type": "markdown",
   "metadata": {},
   "source": [
    "This is a beautiful use of such a non-functional construct.  There is only one `counts`; it is contructed in one place monotonically and then it is passed out where it can be used for all sorts of purposes - like visualizing data.  It is also the kind of use we made of the `board` in cucumber."
   ]
  },
  {
   "cell_type": "markdown",
   "metadata": {},
   "source": [
    "## Caution with mutation on data structures\n",
    "\n",
    "Remember, multiple variables can reference the same object.  Changing one may effect others.  This cannot happen with numbers."
   ]
  },
  {
   "cell_type": "code",
   "execution_count": null,
   "metadata": {
    "collapsed": true
   },
   "outputs": [],
   "source": [
    "# initial values\n",
    "x = 3\n",
    "y = x"
   ]
  },
  {
   "cell_type": "code",
   "execution_count": null,
   "metadata": {
    "collapsed": false
   },
   "outputs": [],
   "source": [
    "# look at them both\n",
    "x,y"
   ]
  },
  {
   "cell_type": "code",
   "execution_count": null,
   "metadata": {
    "collapsed": true
   },
   "outputs": [],
   "source": [
    "# change one\n",
    "y = 5"
   ]
  },
  {
   "cell_type": "code",
   "execution_count": null,
   "metadata": {
    "collapsed": false
   },
   "outputs": [],
   "source": [
    "# look again, only the one changed\n",
    "x,y"
   ]
  },
  {
   "cell_type": "code",
   "execution_count": null,
   "metadata": {
    "collapsed": true
   },
   "outputs": [],
   "source": [
    "# initial values\n",
    "x = [0,0,0]\n",
    "y = x"
   ]
  },
  {
   "cell_type": "code",
   "execution_count": null,
   "metadata": {
    "collapsed": false
   },
   "outputs": [],
   "source": [
    "# look at them both\n",
    "x,y"
   ]
  },
  {
   "cell_type": "code",
   "execution_count": null,
   "metadata": {
    "collapsed": true
   },
   "outputs": [],
   "source": [
    "# change one\n",
    "y[1] = 5"
   ]
  },
  {
   "cell_type": "code",
   "execution_count": null,
   "metadata": {
    "collapsed": false
   },
   "outputs": [],
   "source": [
    "# look again, both have changed!\n",
    "x,y"
   ]
  },
  {
   "cell_type": "markdown",
   "metadata": {},
   "source": [
    "Have fun in lab."
   ]
  }
 ],
 "metadata": {
  "kernelspec": {
   "display_name": "Python 3",
   "language": "python",
   "name": "python3"
  },
  "language_info": {
   "codemirror_mode": {
    "name": "ipython",
    "version": 3
   },
   "file_extension": ".py",
   "mimetype": "text/x-python",
   "name": "python",
   "nbconvert_exporter": "python",
   "pygments_lexer": "ipython3",
   "version": "3.5.1"
  }
 },
 "nbformat": 4,
 "nbformat_minor": 0
}

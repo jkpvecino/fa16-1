{
 "cells": [
  {
   "cell_type": "markdown",
   "metadata": {},
   "source": [
    "# Classes for Object Oriented Programing"
   ]
  },
  {
   "cell_type": "markdown",
   "metadata": {},
   "source": [
    "Recall abstract data type (ADT) with sharing to provide object concepts\n",
    "   - constructors\n",
    "   - selectors\n",
    "   - mutators\n",
    "   - by convention object is first parameter to each function\n",
    "   - higher level code should not depend on representation"
   ]
  },
  {
   "cell_type": "code",
   "execution_count": 1,
   "metadata": {
    "collapsed": true
   },
   "outputs": [],
   "source": [
    "def account(name, initial_deposit):\n",
    "    return {'Name' : name, 'Balance' : initial_deposit}\n",
    "\n",
    "def account_name(acct):\n",
    "    return acct['Name']\n",
    "\n",
    "def account_balance(acct):\n",
    "    return acct['Balance']\n",
    "\n",
    "def withdraw(acct, amount):\n",
    "    acct['Balance'] -= amount\n",
    "    return acct['Balance']"
   ]
  },
  {
   "cell_type": "code",
   "execution_count": 2,
   "metadata": {
    "collapsed": false
   },
   "outputs": [
    {
     "data": {
      "text/plain": [
       "{'Balance': 93, 'Name': 'David Culler'}"
      ]
     },
     "execution_count": 2,
     "metadata": {},
     "output_type": "execute_result"
    }
   ],
   "source": [
    "my_acct = account('David Culler', 93)\n",
    "my_acct"
   ]
  },
  {
   "cell_type": "code",
   "execution_count": 3,
   "metadata": {
    "collapsed": false
   },
   "outputs": [
    {
     "data": {
      "text/plain": [
       "51"
      ]
     },
     "execution_count": 3,
     "metadata": {},
     "output_type": "execute_result"
    }
   ],
   "source": [
    "withdraw(my_acct, 42)\n",
    "account_balance(my_acct)"
   ]
  },
  {
   "cell_type": "markdown",
   "metadata": {},
   "source": [
    "## class declaration\n",
    "\n",
    "Introduces a namespace and the attributes and methods defined on an object.  Representation is encapsulated within the object.\n",
    "\n",
    "A *namespace* is a mapping from names to objects.\n",
    "   - attributes and methods\n",
    "   - follow the dot.\n",
    "\n",
    "A *scope* is a textual region of a Python program where a namespace is directly accessible.\n",
    "When a class definition is entered, a new namespace is created, and used as the local scope.\n",
    "\n",
    "Class name follow CapWord convention.\n",
    "   - Function names should be lowercase, with words separated by underscores as necessary to improve readability.\n",
    "   - Methods follow function conventions"
   ]
  },
  {
   "cell_type": "code",
   "execution_count": 4,
   "metadata": {
    "collapsed": true
   },
   "outputs": [],
   "source": [
    "class BaseAccount:\n",
    "    \n",
    "    def init(self, name, initial_deposit):  # object method declared with self as first argument\n",
    "        self.name = name                    # instance attributes relative to self using dot\n",
    "        self.balance = initial_deposit \n",
    "\n",
    "    def account_name(self):\n",
    "        return self.name                    # state is carried in the object instance variables\n",
    "\n",
    "    def account_balance(self):\n",
    "        return self.balance\n",
    "\n",
    "    def withdraw(self, amount):\n",
    "        self.balance -= amount\n",
    "        return self.balance"
   ]
  },
  {
   "cell_type": "code",
   "execution_count": 5,
   "metadata": {
    "collapsed": false
   },
   "outputs": [
    {
     "data": {
      "text/plain": [
       "__main__.BaseAccount"
      ]
     },
     "execution_count": 5,
     "metadata": {},
     "output_type": "execute_result"
    }
   ],
   "source": [
    "BaseAccount"
   ]
  },
  {
   "cell_type": "code",
   "execution_count": 6,
   "metadata": {
    "collapsed": false
   },
   "outputs": [
    {
     "data": {
      "text/plain": [
       "<__main__.BaseAccount at 0x107651898>"
      ]
     },
     "execution_count": 6,
     "metadata": {},
     "output_type": "execute_result"
    }
   ],
   "source": [
    "# Construct an object of the class\n",
    "my_acct = BaseAccount()\n",
    "# What can you see about it?\n",
    "my_acct"
   ]
  },
  {
   "cell_type": "code",
   "execution_count": 7,
   "metadata": {
    "collapsed": false
   },
   "outputs": [
    {
     "data": {
      "text/plain": [
       "__main__.BaseAccount"
      ]
     },
     "execution_count": 7,
     "metadata": {},
     "output_type": "execute_result"
    }
   ],
   "source": [
    "type(my_acct)"
   ]
  },
  {
   "cell_type": "code",
   "execution_count": 8,
   "metadata": {
    "collapsed": false
   },
   "outputs": [],
   "source": [
    "# Methods on the object (not arguments)\n",
    "my_acct.init(\"David Culler\", 93)"
   ]
  },
  {
   "cell_type": "code",
   "execution_count": 9,
   "metadata": {
    "collapsed": false
   },
   "outputs": [
    {
     "data": {
      "text/plain": [
       "51"
      ]
     },
     "execution_count": 9,
     "metadata": {},
     "output_type": "execute_result"
    }
   ],
   "source": [
    "my_acct.withdraw(42)"
   ]
  },
  {
   "cell_type": "code",
   "execution_count": 11,
   "metadata": {
    "collapsed": false
   },
   "outputs": [
    {
     "data": {
      "text/plain": [
       "'David Culler'"
      ]
     },
     "execution_count": 11,
     "metadata": {},
     "output_type": "execute_result"
    }
   ],
   "source": [
    "my_acct.account_name()"
   ]
  },
  {
   "cell_type": "code",
   "execution_count": 13,
   "metadata": {
    "collapsed": false
   },
   "outputs": [
    {
     "data": {
      "text/plain": [
       "51"
      ]
     },
     "execution_count": 13,
     "metadata": {},
     "output_type": "execute_result"
    }
   ],
   "source": [
    "my_acct.account_balance()"
   ]
  },
  {
   "cell_type": "code",
   "execution_count": 15,
   "metadata": {
    "collapsed": false
   },
   "outputs": [
    {
     "data": {
      "text/plain": [
       "'David Culler'"
      ]
     },
     "execution_count": 15,
     "metadata": {},
     "output_type": "execute_result"
    }
   ],
   "source": [
    "BaseAccount.account_name(my_acct)"
   ]
  },
  {
   "cell_type": "code",
   "execution_count": null,
   "metadata": {
    "collapsed": false
   },
   "outputs": [],
   "source": [
    "BaseAccount.acc"
   ]
  },
  {
   "cell_type": "code",
   "execution_count": 16,
   "metadata": {
    "collapsed": false
   },
   "outputs": [
    {
     "data": {
      "text/plain": [
       "'David Culler'"
      ]
     },
     "execution_count": 16,
     "metadata": {},
     "output_type": "execute_result"
    }
   ],
   "source": [
    "# Instance variables are object attributes\n",
    "my_acct.name"
   ]
  },
  {
   "cell_type": "markdown",
   "metadata": {},
   "source": [
    "## Special initialization method\n",
    "\n",
    "`__init__` is invoked with the new created object."
   ]
  },
  {
   "cell_type": "code",
   "execution_count": 17,
   "metadata": {
    "collapsed": true
   },
   "outputs": [],
   "source": [
    "class BaseAccount:\n",
    "    \n",
    "    def __init__(self, name, initial_deposit):      # special initialization method hooked to constructor\n",
    "        self.name = name\n",
    "        self.balance = initial_deposit\n",
    "\n",
    "    def account_name(self):                         # selectors\n",
    "        return self.name\n",
    "\n",
    "    def account_balance(self):\n",
    "        return self.balance\n",
    "\n",
    "    def withdraw(self, amount):                     # mutator\n",
    "        self.balance -= amount\n",
    "        return self.balance"
   ]
  },
  {
   "cell_type": "code",
   "execution_count": 18,
   "metadata": {
    "collapsed": false
   },
   "outputs": [
    {
     "data": {
      "text/plain": [
       "<__main__.BaseAccount at 0x107666320>"
      ]
     },
     "execution_count": 18,
     "metadata": {},
     "output_type": "execute_result"
    }
   ],
   "source": [
    "my_acct = BaseAccount(\"David Culler\", 94)\n",
    "my_acct"
   ]
  },
  {
   "cell_type": "code",
   "execution_count": 19,
   "metadata": {
    "collapsed": false
   },
   "outputs": [
    {
     "data": {
      "text/plain": [
       "81"
      ]
     },
     "execution_count": 19,
     "metadata": {},
     "output_type": "execute_result"
    }
   ],
   "source": [
    "my_acct.withdraw(13)\n",
    "my_acct.account_balance()"
   ]
  },
  {
   "cell_type": "code",
   "execution_count": 20,
   "metadata": {
    "collapsed": true
   },
   "outputs": [],
   "source": [
    "class BaseAccount:\n",
    "    \n",
    "    def __init__(self, name, initial_deposit):      # special initialization method hooked to constructor\n",
    "        self.name = name\n",
    "        self.balance = initial_deposit\n",
    "\n",
    "    def name(self):\n",
    "        return self.name\n",
    "\n",
    "    def balance(self):\n",
    "        return self.balance\n",
    "\n",
    "    def withdraw(self, amount):\n",
    "        self.balance -= amount\n",
    "        return self.balance"
   ]
  },
  {
   "cell_type": "code",
   "execution_count": 21,
   "metadata": {
    "collapsed": false
   },
   "outputs": [],
   "source": [
    "my_acct = BaseAccount(\"David Culler\", 94)"
   ]
  },
  {
   "cell_type": "code",
   "execution_count": 22,
   "metadata": {
    "collapsed": false
   },
   "outputs": [
    {
     "data": {
      "text/plain": [
       "'David Culler'"
      ]
     },
     "execution_count": 22,
     "metadata": {},
     "output_type": "execute_result"
    }
   ],
   "source": [
    "my_acct.name"
   ]
  },
  {
   "cell_type": "code",
   "execution_count": 23,
   "metadata": {
    "collapsed": false
   },
   "outputs": [
    {
     "ename": "TypeError",
     "evalue": "'str' object is not callable",
     "output_type": "error",
     "traceback": [
      "\u001b[0;31m---------------------------------------------------------------------------\u001b[0m",
      "\u001b[0;31mTypeError\u001b[0m                                 Traceback (most recent call last)",
      "\u001b[0;32m<ipython-input-23-a67e03eaf49c>\u001b[0m in \u001b[0;36m<module>\u001b[0;34m()\u001b[0m\n\u001b[0;32m----> 1\u001b[0;31m \u001b[0mmy_acct\u001b[0m\u001b[0;34m.\u001b[0m\u001b[0mname\u001b[0m\u001b[0;34m(\u001b[0m\u001b[0;34m)\u001b[0m\u001b[0;34m\u001b[0m\u001b[0m\n\u001b[0m",
      "\u001b[0;31mTypeError\u001b[0m: 'str' object is not callable"
     ]
    }
   ],
   "source": [
    "my_acct.name()"
   ]
  },
  {
   "cell_type": "code",
   "execution_count": 24,
   "metadata": {
    "collapsed": true
   },
   "outputs": [],
   "source": [
    "class BaseAccount:\n",
    "    \n",
    "    def __init__(self, name, initial_deposit):      \n",
    "        self.name = name                        # Use the instance variables as selectors\n",
    "        self.balance = initial_deposit\n",
    "        # return None\n",
    "\n",
    "    def withdraw(self, amount):\n",
    "        self.balance -= amount\n",
    "        return self.balance"
   ]
  },
  {
   "cell_type": "code",
   "execution_count": 25,
   "metadata": {
    "collapsed": false
   },
   "outputs": [
    {
     "data": {
      "text/plain": [
       "'David Culler'"
      ]
     },
     "execution_count": 25,
     "metadata": {},
     "output_type": "execute_result"
    }
   ],
   "source": [
    "my_acct = BaseAccount(\"David Culler\", 94)\n",
    "my_acct.name"
   ]
  },
  {
   "cell_type": "code",
   "execution_count": 26,
   "metadata": {
    "collapsed": false
   },
   "outputs": [
    {
     "data": {
      "text/plain": [
       "<__main__.BaseAccount at 0x10713ccf8>"
      ]
     },
     "execution_count": 26,
     "metadata": {},
     "output_type": "execute_result"
    }
   ],
   "source": [
    "your_acct = BaseAccount(\"Barak Obama\", 2016)\n",
    "your_acct"
   ]
  },
  {
   "cell_type": "code",
   "execution_count": 27,
   "metadata": {
    "collapsed": false
   },
   "outputs": [
    {
     "data": {
      "text/plain": [
       "<__main__.BaseAccount at 0x10713cdd8>"
      ]
     },
     "execution_count": 27,
     "metadata": {},
     "output_type": "execute_result"
    }
   ],
   "source": [
    "my_acct"
   ]
  },
  {
   "cell_type": "code",
   "execution_count": 29,
   "metadata": {
    "collapsed": false
   },
   "outputs": [
    {
     "data": {
      "text/plain": [
       "94"
      ]
     },
     "execution_count": 29,
     "metadata": {},
     "output_type": "execute_result"
    }
   ],
   "source": [
    "my_acct.balance"
   ]
  },
  {
   "cell_type": "code",
   "execution_count": 32,
   "metadata": {
    "collapsed": false
   },
   "outputs": [
    {
     "data": {
      "text/plain": [
       "'Barak Obama'"
      ]
     },
     "execution_count": 32,
     "metadata": {},
     "output_type": "execute_result"
    }
   ],
   "source": [
    "your_acct.name"
   ]
  },
  {
   "cell_type": "code",
   "execution_count": 33,
   "metadata": {
    "collapsed": false
   },
   "outputs": [
    {
     "data": {
      "text/plain": [
       "89"
      ]
     },
     "execution_count": 33,
     "metadata": {},
     "output_type": "execute_result"
    }
   ],
   "source": [
    "# Python does not make the object namespace private\n",
    "BaseAccount.withdraw(my_acct, 5)"
   ]
  },
  {
   "cell_type": "code",
   "execution_count": 34,
   "metadata": {
    "collapsed": false
   },
   "outputs": [
    {
     "data": {
      "text/plain": [
       "89"
      ]
     },
     "execution_count": 34,
     "metadata": {},
     "output_type": "execute_result"
    }
   ],
   "source": [
    "my_acct.balance"
   ]
  },
  {
   "cell_type": "code",
   "execution_count": 35,
   "metadata": {
    "collapsed": true
   },
   "outputs": [],
   "source": [
    "class BaseAccount:\n",
    "    \n",
    "    def __init__(self, name, initial_deposit):     \n",
    "        self._name = name                       # convention to indicate private \n",
    "        self._balance = initial_deposit\n",
    "\n",
    "    def name(self):\n",
    "        return self._name\n",
    "\n",
    "    def balance(self):\n",
    "        return self._balance\n",
    "\n",
    "    def withdraw(self, amount):\n",
    "        self._balance -= amount\n",
    "        return self._balance"
   ]
  },
  {
   "cell_type": "code",
   "execution_count": 36,
   "metadata": {
    "collapsed": true
   },
   "outputs": [],
   "source": [
    "my_acct = BaseAccount(\"David Culler\", 94)"
   ]
  },
  {
   "cell_type": "code",
   "execution_count": 37,
   "metadata": {
    "collapsed": false
   },
   "outputs": [
    {
     "data": {
      "text/plain": [
       "94"
      ]
     },
     "execution_count": 37,
     "metadata": {},
     "output_type": "execute_result"
    }
   ],
   "source": [
    "my_acct.balance()"
   ]
  },
  {
   "cell_type": "markdown",
   "metadata": {},
   "source": [
    "## Class variables"
   ]
  },
  {
   "cell_type": "code",
   "execution_count": 69,
   "metadata": {
    "collapsed": false
   },
   "outputs": [],
   "source": [
    "class BaseAccount:\n",
    "    account_number_seed = 1000                  # Class attribute accessible to all object of the class\n",
    "    \n",
    "    def __init__(self, name, initial_deposit):  \n",
    "        self._name = name                        \n",
    "        self._balance = initial_deposit\n",
    "        self._acct_no = BaseAccount.account_number_seed    # Referenced relative to the class\n",
    "        BaseAccount.account_number_seed += 1\n",
    "\n",
    "    def name(self):\n",
    "        return self._name\n",
    "\n",
    "    def balance(self):\n",
    "        return self._balance\n",
    "    \n",
    "    def account_no(self):\n",
    "        return self._acct_no\n",
    "\n",
    "    def withdraw(self, amount):\n",
    "        self._balance -= amount\n",
    "        return self._balance"
   ]
  },
  {
   "cell_type": "code",
   "execution_count": 70,
   "metadata": {
    "collapsed": false
   },
   "outputs": [],
   "source": [
    "my_acct = BaseAccount(\"David Culler\", 94)"
   ]
  },
  {
   "cell_type": "code",
   "execution_count": 71,
   "metadata": {
    "collapsed": false
   },
   "outputs": [
    {
     "data": {
      "text/plain": [
       "1000"
      ]
     },
     "execution_count": 71,
     "metadata": {},
     "output_type": "execute_result"
    }
   ],
   "source": [
    "my_acct.account_no()"
   ]
  },
  {
   "cell_type": "code",
   "execution_count": 46,
   "metadata": {
    "collapsed": true
   },
   "outputs": [],
   "source": [
    "your_account = BaseAccount(\"Barak Obama\", 2012)"
   ]
  },
  {
   "cell_type": "code",
   "execution_count": 47,
   "metadata": {
    "collapsed": false
   },
   "outputs": [
    {
     "data": {
      "text/plain": [
       "1001"
      ]
     },
     "execution_count": 47,
     "metadata": {},
     "output_type": "execute_result"
    }
   ],
   "source": [
    "your_account.account_no()"
   ]
  },
  {
   "cell_type": "code",
   "execution_count": 48,
   "metadata": {
    "collapsed": false
   },
   "outputs": [
    {
     "data": {
      "text/plain": [
       "1002"
      ]
     },
     "execution_count": 48,
     "metadata": {},
     "output_type": "execute_result"
    }
   ],
   "source": [
    "my_acct.account_number_seed"
   ]
  },
  {
   "cell_type": "code",
   "execution_count": 49,
   "metadata": {
    "collapsed": true
   },
   "outputs": [],
   "source": [
    "class BadBaseAccount:\n",
    "    account_number_seed = 1000                  # Class attribute accessible to all object of the class\n",
    "    \n",
    "    def __init__(self, name, initial_deposit):     \n",
    "        self._name = name                        \n",
    "        self._balance = initial_deposit\n",
    "        self._acct_no = self.account_number_seed    # Referenced relative to the class\n",
    "        self.account_number_seed += 1\n",
    "\n",
    "    def name(self):\n",
    "        return self._name\n",
    "\n",
    "    def balance(self):\n",
    "        return self._balance\n",
    "    \n",
    "    def account_no(self):\n",
    "        return self._acct_no\n",
    "\n",
    "    def withdraw(self, amount):\n",
    "        self._balance -= amount\n",
    "        return self._balance"
   ]
  },
  {
   "cell_type": "code",
   "execution_count": 50,
   "metadata": {
    "collapsed": false
   },
   "outputs": [],
   "source": [
    "my_acct = BadBaseAccount(\"David Culler\", 94)"
   ]
  },
  {
   "cell_type": "code",
   "execution_count": 51,
   "metadata": {
    "collapsed": false
   },
   "outputs": [
    {
     "data": {
      "text/plain": [
       "1000"
      ]
     },
     "execution_count": 51,
     "metadata": {},
     "output_type": "execute_result"
    }
   ],
   "source": [
    "my_acct.account_no()"
   ]
  },
  {
   "cell_type": "code",
   "execution_count": 52,
   "metadata": {
    "collapsed": false
   },
   "outputs": [
    {
     "data": {
      "text/plain": [
       "1000"
      ]
     },
     "execution_count": 52,
     "metadata": {},
     "output_type": "execute_result"
    }
   ],
   "source": [
    "your_acct = BadBaseAccount(\"Barak Obama\", 2012)\n",
    "your_acct.account_no()"
   ]
  },
  {
   "cell_type": "code",
   "execution_count": 53,
   "metadata": {
    "collapsed": true
   },
   "outputs": [],
   "source": [
    "class BaseAccount:\n",
    "    account_number_seed = 1000                  # Class attribute accessible to all object of the class\n",
    "    accounts = []\n",
    "    \n",
    "    def __init__(self, name, initial_deposit):     \n",
    "        self._name = name                        \n",
    "        self._balance = initial_deposit\n",
    "        self._acct_no = BaseAccount.account_number_seed    # Referenced relative to the class\n",
    "        BaseAccount.account_number_seed += 1\n",
    "        BaseAccount.accounts.append(self)\n",
    "\n",
    "    def name(self):\n",
    "        return self._name\n",
    "\n",
    "    def balance(self):\n",
    "        return self._balance\n",
    "    \n",
    "    def account_no(self):\n",
    "        return self._acct_no\n",
    "\n",
    "    def withdraw(self, amount):\n",
    "        self._balance -= amount\n",
    "        return self._balance\n",
    "    \n",
    "    def show_accounts():                       # Class method.  No self argument.\n",
    "        for account in BaseAccount.accounts:\n",
    "            print(account.name(),account.account_no(),account.balance())"
   ]
  },
  {
   "cell_type": "code",
   "execution_count": 54,
   "metadata": {
    "collapsed": false
   },
   "outputs": [
    {
     "data": {
      "text/plain": [
       "<__main__.BaseAccount at 0x107665710>"
      ]
     },
     "execution_count": 54,
     "metadata": {},
     "output_type": "execute_result"
    }
   ],
   "source": [
    "my_acct = BaseAccount(\"David Culler\", 94)\n",
    "your_acct = BaseAccount(\"Barak Obama\", 2012)\n",
    "BaseAccount(\"Sombody Else\", 2314)"
   ]
  },
  {
   "cell_type": "code",
   "execution_count": 55,
   "metadata": {
    "collapsed": false
   },
   "outputs": [
    {
     "name": "stdout",
     "output_type": "stream",
     "text": [
      "David Culler 1000 94\n",
      "Barak Obama 1001 2012\n",
      "Sombody Else 1002 2314\n"
     ]
    }
   ],
   "source": [
    "BaseAccount.show_accounts()"
   ]
  },
  {
   "cell_type": "markdown",
   "metadata": {},
   "source": [
    "## Inheritance\n",
    "\n",
    "Define a subclass of a class by inheriting all the attributes and methods of the class, introducing additional ones and possibly redefining existing ones.\n",
    "\n",
    "The subclass is more spacialize, the superclass is more general (or generic)"
   ]
  },
  {
   "cell_type": "code",
   "execution_count": 56,
   "metadata": {
    "collapsed": true
   },
   "outputs": [],
   "source": [
    "class Account(BaseAccount):\n",
    "    def deposit(self, amount):\n",
    "        self._balance += amount\n",
    "        return self._balance"
   ]
  },
  {
   "cell_type": "code",
   "execution_count": 57,
   "metadata": {
    "collapsed": true
   },
   "outputs": [],
   "source": [
    "acct = Account(\"Ethan Allen\", 34)"
   ]
  },
  {
   "cell_type": "code",
   "execution_count": 58,
   "metadata": {
    "collapsed": false
   },
   "outputs": [
    {
     "data": {
      "text/plain": [
       "<__main__.Account at 0x107665cf8>"
      ]
     },
     "execution_count": 58,
     "metadata": {},
     "output_type": "execute_result"
    }
   ],
   "source": [
    "acct"
   ]
  },
  {
   "cell_type": "code",
   "execution_count": 59,
   "metadata": {
    "collapsed": false
   },
   "outputs": [
    {
     "data": {
      "text/plain": [
       "34"
      ]
     },
     "execution_count": 59,
     "metadata": {},
     "output_type": "execute_result"
    }
   ],
   "source": [
    "acct.balance()"
   ]
  },
  {
   "cell_type": "code",
   "execution_count": 60,
   "metadata": {
    "collapsed": false
   },
   "outputs": [
    {
     "data": {
      "text/plain": [
       "1810"
      ]
     },
     "execution_count": 60,
     "metadata": {},
     "output_type": "execute_result"
    }
   ],
   "source": [
    "acct.deposit(1776)"
   ]
  },
  {
   "cell_type": "code",
   "execution_count": 61,
   "metadata": {
    "collapsed": false
   },
   "outputs": [
    {
     "data": {
      "text/plain": [
       "<__main__.BaseAccount at 0x1076656a0>"
      ]
     },
     "execution_count": 61,
     "metadata": {},
     "output_type": "execute_result"
    }
   ],
   "source": [
    "my_acct"
   ]
  },
  {
   "cell_type": "code",
   "execution_count": 62,
   "metadata": {
    "collapsed": false
   },
   "outputs": [
    {
     "data": {
      "text/plain": [
       "1003"
      ]
     },
     "execution_count": 62,
     "metadata": {},
     "output_type": "execute_result"
    }
   ],
   "source": [
    "acct.account_no()"
   ]
  },
  {
   "cell_type": "code",
   "execution_count": 63,
   "metadata": {
    "collapsed": false
   },
   "outputs": [
    {
     "name": "stdout",
     "output_type": "stream",
     "text": [
      "David Culler 1000 94\n",
      "Barak Obama 1001 2012\n",
      "Sombody Else 1002 2314\n",
      "Ethan Allen 1003 1810\n"
     ]
    }
   ],
   "source": [
    "BaseAccount.show_accounts()"
   ]
  },
  {
   "cell_type": "code",
   "execution_count": 64,
   "metadata": {
    "collapsed": false
   },
   "outputs": [
    {
     "ename": "AttributeError",
     "evalue": "'BaseAccount' object has no attribute 'deposit'",
     "output_type": "error",
     "traceback": [
      "\u001b[0;31m---------------------------------------------------------------------------\u001b[0m",
      "\u001b[0;31mAttributeError\u001b[0m                            Traceback (most recent call last)",
      "\u001b[0;32m<ipython-input-64-fbb2ca4d3855>\u001b[0m in \u001b[0;36m<module>\u001b[0;34m()\u001b[0m\n\u001b[0;32m----> 1\u001b[0;31m \u001b[0mmy_acct\u001b[0m\u001b[0;34m.\u001b[0m\u001b[0mdeposit\u001b[0m\u001b[0;34m(\u001b[0m\u001b[0;36m35\u001b[0m\u001b[0;34m)\u001b[0m\u001b[0;34m\u001b[0m\u001b[0m\n\u001b[0m",
      "\u001b[0;31mAttributeError\u001b[0m: 'BaseAccount' object has no attribute 'deposit'"
     ]
    }
   ],
   "source": [
    "my_acct.deposit(35)"
   ]
  },
  {
   "cell_type": "code",
   "execution_count": 65,
   "metadata": {
    "collapsed": false
   },
   "outputs": [
    {
     "name": "stdout",
     "output_type": "stream",
     "text": [
      "David Culler 1000 94\n",
      "Barak Obama 1001 2012\n",
      "Sombody Else 1002 2314\n",
      "Ethan Allen 1003 1810\n"
     ]
    }
   ],
   "source": [
    "Account.show_accounts()"
   ]
  },
  {
   "cell_type": "markdown",
   "metadata": {},
   "source": [
    "## Special methods\n",
    "\n",
    "Name surrounded by `__`.  Invoked implicitly in particular circumstances.\n",
    "\n",
    "  - `__repr__` how the object represents itself as a value\n",
    "  - `__str__` how the object prints itself\n",
    "  - `__len__` how the object computes its length\n",
    "  - `__contains__` how the object determines if some value is `in` it."
   ]
  },
  {
   "cell_type": "code",
   "execution_count": 66,
   "metadata": {
    "collapsed": false
   },
   "outputs": [],
   "source": [
    "class Account(BaseAccount):\n",
    "    def deposit(self, amount):\n",
    "        self._balance += amount\n",
    "        return self._balance\n",
    "    \n",
    "    def __repr__(self):\n",
    "        return '< ' + str(self._acct_no) + '[' + str(self._name) + '] >'\n",
    "    \n",
    "    def __str__(self):\n",
    "        return 'Account: ' + str(self._acct_no) + '[' + str(self._name) + ']'\n",
    "    \n",
    "    def show_accounts():                       # Class method.  No self argument.\n",
    "        for account in BaseAccount.accounts:\n",
    "            print(account)"
   ]
  },
  {
   "cell_type": "code",
   "execution_count": 67,
   "metadata": {
    "collapsed": false
   },
   "outputs": [
    {
     "data": {
      "text/plain": [
       "< 1004[George Jungle] >"
      ]
     },
     "execution_count": 67,
     "metadata": {},
     "output_type": "execute_result"
    }
   ],
   "source": [
    "george_acct = Account(\"George Jungle\", 999)\n",
    "george_acct"
   ]
  },
  {
   "cell_type": "code",
   "execution_count": 68,
   "metadata": {
    "collapsed": false
   },
   "outputs": [
    {
     "name": "stdout",
     "output_type": "stream",
     "text": [
      "Account: 1004[George Jungle]\n"
     ]
    }
   ],
   "source": [
    "print(george_acct)"
   ]
  },
  {
   "cell_type": "code",
   "execution_count": null,
   "metadata": {
    "collapsed": false
   },
   "outputs": [],
   "source": [
    "Account.show_accounts()"
   ]
  },
  {
   "cell_type": "code",
   "execution_count": null,
   "metadata": {
    "collapsed": false
   },
   "outputs": [],
   "source": [
    "class BaseAccount:\n",
    "    account_number_seed = 1000                  # Class attribute accessible to all object of the class\n",
    "    \n",
    "    def __init__(self, name, initial_deposit):     \n",
    "        self._name = name                        \n",
    "        self._balance = initial_deposit\n",
    "        self._acct_no = BaseAccount.account_number_seed    # Referenced relative to the class\n",
    "        BaseAccount.account_number_seed += 1\n",
    "\n",
    "    def name(self):\n",
    "        return self._name\n",
    "\n",
    "    def balance(self):\n",
    "        return self._balance\n",
    "    \n",
    "    def account_no(self):\n",
    "        return self._acct_no\n",
    "\n",
    "    def withdraw(self, amount):\n",
    "        assert amount > 0, \"Bad withdrawl\"\n",
    "        self._balance -= amount\n",
    "        return self._balance\n",
    "\n",
    "class Account(BaseAccount):\n",
    "    def __init__(self, name, account_type, initial_deposit):\n",
    "        BaseAccount.__init__(self, name, initial_deposit)\n",
    "        self._type = account_type\n",
    "        \n",
    "    def deposit(self, amount):\n",
    "        assert amount > 0, \"bad deposit\"\n",
    "        self._balance += amount\n",
    "        return self._balance\n",
    "    \n",
    "    def __repr__(self):\n",
    "        return '< ' + str(self._acct_no) + '[' + str(self._name) + ']: ' + self._type + ' >'\n",
    "    \n",
    "    def __str__(self):\n",
    "        return 'Account: ' + str(self._acct_no) + '[' + str(self._name) + ']: ' + self._type\n",
    "    \n",
    "class Bank:   \n",
    "    accounts = []\n",
    "    \n",
    "    def add_account(self, name, account_type, initial_deposit):\n",
    "        assert (account_type == 'savings') or (account_type == checking), \"Bad Account type\"\n",
    "        assert initial_deposit > 0, \"Bad deposit\"\n",
    "        new_account = Account(name, account_type, initial_deposit)\n",
    "        Bank.accounts.append(new_account)\n",
    "\n",
    "    def show_accounts(self):            \n",
    "        for account in Bank.accounts:\n",
    "            print(account)"
   ]
  },
  {
   "cell_type": "code",
   "execution_count": null,
   "metadata": {
    "collapsed": true
   },
   "outputs": [],
   "source": [
    "bank = Bank()"
   ]
  },
  {
   "cell_type": "code",
   "execution_count": null,
   "metadata": {
    "collapsed": false
   },
   "outputs": [],
   "source": [
    "bank"
   ]
  },
  {
   "cell_type": "code",
   "execution_count": null,
   "metadata": {
    "collapsed": false
   },
   "outputs": [],
   "source": [
    "bank.add_account('Fred Brooks', 'savings', 10000)\n",
    "bank.add_account('Wilt Chamberlain', 'savings', 10000)"
   ]
  },
  {
   "cell_type": "code",
   "execution_count": null,
   "metadata": {
    "collapsed": false
   },
   "outputs": [],
   "source": [
    "bank.show_accounts()"
   ]
  },
  {
   "cell_type": "code",
   "execution_count": null,
   "metadata": {
    "collapsed": true
   },
   "outputs": [],
   "source": []
  },
  {
   "cell_type": "code",
   "execution_count": null,
   "metadata": {
    "collapsed": true
   },
   "outputs": [],
   "source": []
  }
 ],
 "metadata": {
  "kernelspec": {
   "display_name": "Python 3",
   "language": "python",
   "name": "python3"
  },
  "language_info": {
   "codemirror_mode": {
    "name": "ipython",
    "version": 3
   },
   "file_extension": ".py",
   "mimetype": "text/x-python",
   "name": "python",
   "nbconvert_exporter": "python",
   "pygments_lexer": "ipython3",
   "version": "3.5.1"
  }
 },
 "nbformat": 4,
 "nbformat_minor": 0
}

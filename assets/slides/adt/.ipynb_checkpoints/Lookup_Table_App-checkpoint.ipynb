{
 "cells": [
  {
   "cell_type": "code",
   "execution_count": 14,
   "metadata": {
    "collapsed": false
   },
   "outputs": [],
   "source": [
    "from lut import *"
   ]
  },
  {
   "cell_type": "markdown",
   "metadata": {},
   "source": [
    "## Phonebook"
   ]
  },
  {
   "cell_type": "code",
   "execution_count": 3,
   "metadata": {
    "collapsed": true
   },
   "outputs": [],
   "source": [
    "phone_book_data = [\n",
    "    (\"Christine Strauch\", \"510-842-9235\"),\n",
    "    (\"Frances Catal Buloan\", \"932-567-3241\"),\n",
    "    (\"Jack Chow\", \"617-547-0923\"),\n",
    "    (\"Joy De Rosario\", \"310-912-6483\"),\n",
    "    (\"Casey Casem\", \"415-432-9292\"),\n",
    "    (\"Lydia Lu\", \"707-341-1254\")]"
   ]
  },
  {
   "cell_type": "code",
   "execution_count": 4,
   "metadata": {
    "collapsed": false
   },
   "outputs": [
    {
     "data": {
      "text/plain": [
       "(['Lydia Lu',\n",
       "  'Casey Casem',\n",
       "  'Joy De Rosario',\n",
       "  'Jack Chow',\n",
       "  'Frances Catal Buloan',\n",
       "  'Christine Strauch'],\n",
       " ['707-341-1254',\n",
       "  '415-432-9292',\n",
       "  '310-912-6483',\n",
       "  '617-547-0923',\n",
       "  '932-567-3241',\n",
       "  '510-842-9235'])"
      ]
     },
     "execution_count": 4,
     "metadata": {},
     "output_type": "execute_result"
    }
   ],
   "source": [
    "phone_book = lut_with_bindings(phone_book_data)\n",
    "phone_book"
   ]
  },
  {
   "cell_type": "code",
   "execution_count": 5,
   "metadata": {
    "collapsed": false
   },
   "outputs": [
    {
     "name": "stdout",
     "output_type": "stream",
     "text": [
      "Casey Casem => 415-432-9292\n",
      "Christine Strauch => 510-842-9235\n",
      "Frances Catal Buloan => 932-567-3241\n",
      "Jack Chow => 617-547-0923\n",
      "Joy De Rosario => 310-912-6483\n",
      "Lydia Lu => 707-341-1254\n"
     ]
    }
   ],
   "source": [
    "lut_print(phone_book)"
   ]
  },
  {
   "cell_type": "code",
   "execution_count": 6,
   "metadata": {
    "collapsed": false
   },
   "outputs": [
    {
     "data": {
      "text/plain": [
       "'617-547-0923'"
      ]
     },
     "execution_count": 6,
     "metadata": {},
     "output_type": "execute_result"
    }
   ],
   "source": [
    "lut_get(phone_book, \"Jack Chow\")"
   ]
  },
  {
   "cell_type": "code",
   "execution_count": 8,
   "metadata": {
    "collapsed": true
   },
   "outputs": [],
   "source": [
    "new_phone_book = lut_update(phone_book, \"Jack Chow\", \"805-962-0936\")"
   ]
  },
  {
   "cell_type": "code",
   "execution_count": 9,
   "metadata": {
    "collapsed": false
   },
   "outputs": [
    {
     "data": {
      "text/plain": [
       "'805-962-0936'"
      ]
     },
     "execution_count": 9,
     "metadata": {},
     "output_type": "execute_result"
    }
   ],
   "source": [
    "lut_get(new_phone_book, \"Jack Chow\")"
   ]
  },
  {
   "cell_type": "code",
   "execution_count": 10,
   "metadata": {
    "collapsed": false
   },
   "outputs": [
    {
     "data": {
      "text/plain": [
       "[('Joy De Rosario', '310-912-6483'),\n",
       " ('Casey Casem', '415-432-9292'),\n",
       " ('Christine Strauch', '510-842-9235'),\n",
       " ('Lydia Lu', '707-341-1254'),\n",
       " ('Jack Chow', '805-962-0936'),\n",
       " ('Frances Catal Buloan', '932-567-3241')]"
      ]
     },
     "execution_count": 10,
     "metadata": {},
     "output_type": "execute_result"
    }
   ],
   "source": [
    "lut_sorted(new_phone_book, lambda k,v:v)"
   ]
  },
  {
   "cell_type": "code",
   "execution_count": 12,
   "metadata": {
    "collapsed": true
   },
   "outputs": [],
   "source": [
    "# Distance function on names\n",
    "def name_dist(name1, name2):\n",
    "    count = max(len(name1),len(name2)) - min(len(name1),len(name2))\n",
    "    for i in range(min(len(name1), len(name2))):\n",
    "        if (name1[i] != name2[i]):\n",
    "            count += 1\n",
    "    return count"
   ]
  },
  {
   "cell_type": "code",
   "execution_count": 15,
   "metadata": {
    "collapsed": false
   },
   "outputs": [
    {
     "data": {
      "text/plain": [
       "('Jack Chow', '617-547-0923')"
      ]
     },
     "execution_count": 15,
     "metadata": {},
     "output_type": "execute_result"
    }
   ],
   "source": [
    "lut_fuzzy_get(phone_book, \"Jack\", name_dist)"
   ]
  },
  {
   "cell_type": "markdown",
   "metadata": {},
   "source": [
    "## Friends"
   ]
  },
  {
   "cell_type": "code",
   "execution_count": 16,
   "metadata": {
    "collapsed": true
   },
   "outputs": [],
   "source": [
    "friend_data = [\n",
    "    (\"Christine Strauch\", \"Jack Chow\"),\n",
    "    (\"Christine Strauch\", \"Lydia Lu\"),\n",
    "    (\"Jack Chow\", \"Christine Strauch\"),\n",
    "    (\"Casey Casem\", \"Christine Strauch\"),\n",
    "    (\"Casey Casem\", \"Jack Chow\"),\n",
    "    (\"Casey Casem\", \"Frances Catal Buloan\"),\n",
    "    (\"Casey Casem\", \"Joy De Rosario\"),\n",
    "    (\"Casey Casem\", \"Casey Casem\"),\n",
    "    (\"Frances Catal Buloan\", \"Jack Chow\"),\n",
    "    (\"Jack Chow\", \"Frances Catal Buloan\"),\n",
    "    (\"Joy De Rosario\", \"Lydia Lu\"),\n",
    "    (\"Joy De Lydia\", \"Jack Chow\")\n",
    "    ]\n"
   ]
  },
  {
   "cell_type": "code",
   "execution_count": 17,
   "metadata": {
    "collapsed": true
   },
   "outputs": [],
   "source": [
    "def make_friends(friends):\n",
    "    friend_lut = lut()\n",
    "    for (friender, friendee) in friends:\n",
    "        old_friends = lut_get(friend_lut, friender)\n",
    "        new_friends = old_friends + [friendee] if old_friends is not None else [friendee]\n",
    "        friend_lut = lut_update(friend_lut, friender, new_friends)\n",
    "    return friend_lut"
   ]
  },
  {
   "cell_type": "code",
   "execution_count": 19,
   "metadata": {
    "collapsed": false
   },
   "outputs": [
    {
     "name": "stdout",
     "output_type": "stream",
     "text": [
      "Casey Casem => ['Christine Strauch', 'Jack Chow', 'Frances Catal Buloan', 'Joy De Rosario', 'Casey Casem']\n",
      "Christine Strauch => ['Jack Chow', 'Lydia Lu']\n",
      "Frances Catal Buloan => ['Jack Chow']\n",
      "Jack Chow => ['Christine Strauch', 'Frances Catal Buloan']\n",
      "Joy De Lydia => ['Jack Chow']\n",
      "Joy De Rosario => ['Lydia Lu']\n"
     ]
    }
   ],
   "source": [
    "friends = make_friends(friend_data)\n",
    "lut_print(friends)"
   ]
  },
  {
   "cell_type": "markdown",
   "metadata": {},
   "source": [
    "## Join two lookup tables"
   ]
  },
  {
   "cell_type": "code",
   "execution_count": 20,
   "metadata": {
    "collapsed": true
   },
   "outputs": [],
   "source": [
    "def friend_phones(person, phone_lut, friend_lut):\n",
    "    return [(friend, lut_get(phone_lut, friend)) for friend in lut_get(friend_lut, person)]"
   ]
  },
  {
   "cell_type": "code",
   "execution_count": 21,
   "metadata": {
    "collapsed": false
   },
   "outputs": [
    {
     "data": {
      "text/plain": [
       "[('Christine Strauch', '510-842-9235'),\n",
       " ('Jack Chow', '617-547-0923'),\n",
       " ('Frances Catal Buloan', '932-567-3241'),\n",
       " ('Joy De Rosario', '310-912-6483'),\n",
       " ('Casey Casem', '415-432-9292')]"
      ]
     },
     "execution_count": 21,
     "metadata": {},
     "output_type": "execute_result"
    }
   ],
   "source": [
    "friend_phones(\"Casey Casem\", phone_book, friends)"
   ]
  }
 ],
 "metadata": {
  "kernelspec": {
   "display_name": "Python 3",
   "language": "python",
   "name": "python3"
  },
  "language_info": {
   "codemirror_mode": {
    "name": "ipython",
    "version": 3
   },
   "file_extension": ".py",
   "mimetype": "text/x-python",
   "name": "python",
   "nbconvert_exporter": "python",
   "pygments_lexer": "ipython3",
   "version": "3.5.1"
  }
 },
 "nbformat": 4,
 "nbformat_minor": 0
}
